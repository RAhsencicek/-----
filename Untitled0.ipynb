{
  "nbformat": 4,
  "nbformat_minor": 0,
  "metadata": {
    "colab": {
      "provenance": [],
      "authorship_tag": "ABX9TyOpEuNCyqKewTB4tX2IsmJQ",
      "include_colab_link": true
    },
    "kernelspec": {
      "name": "python3",
      "display_name": "Python 3"
    },
    "language_info": {
      "name": "python"
    }
  },
  "cells": [
    {
      "cell_type": "markdown",
      "metadata": {
        "id": "view-in-github",
        "colab_type": "text"
      },
      "source": [
        "<a href=\"https://colab.research.google.com/github/RAhsencicek/-----/blob/main/Untitled0.ipynb\" target=\"_parent\"><img src=\"https://colab.research.google.com/assets/colab-badge.svg\" alt=\"Open In Colab\"/></a>"
      ]
    },
    {
      "cell_type": "code",
      "execution_count": 8,
      "metadata": {
        "colab": {
          "base_uri": "https://localhost:8080/",
          "height": 986
        },
        "id": "SPHjB5Hbijj-",
        "outputId": "05a0e8f7-022f-4b62-e879-93bf1b330a86"
      },
      "outputs": [
        {
          "output_type": "display_data",
          "data": {
            "text/plain": [
              "<Figure size 640x480 with 1 Axes>"
            ],
            "image/png": "[encoded data removed]"
          },
          "metadata": {}
        },
        {
          "output_type": "stream",
          "name": "stdout",
          "text": [
            "Alt sınır: -2.8224999999999945\n",
            "Üst sınır: 40.29749999999999\n",
            "     total_bill   tip     sex smoker   day    time  size\n",
            "0         16.99  1.01  Female     No   Sun  Dinner     2\n",
            "1         10.34  1.66    Male     No   Sun  Dinner     3\n",
            "2         21.01  3.50    Male     No   Sun  Dinner     3\n",
            "3         23.68  3.31    Male     No   Sun  Dinner     2\n",
            "4         24.59  3.61  Female     No   Sun  Dinner     4\n",
            "..          ...   ...     ...    ...   ...     ...   ...\n",
            "239       29.03  5.92    Male     No   Sat  Dinner     3\n",
            "240       27.18  2.00  Female    Yes   Sat  Dinner     2\n",
            "241       22.67  2.00    Male    Yes   Sat  Dinner     2\n",
            "242       17.82  1.75    Male     No   Sat  Dinner     2\n",
            "243       18.78  3.00  Female     No  Thur  Dinner     2\n",
            "\n",
            "[235 rows x 7 columns]\n",
            "     total_bill   tip     sex smoker   day    time  size\n",
            "0         16.99  1.01  Female     No   Sun  Dinner     2\n",
            "1         10.34  1.66    Male     No   Sun  Dinner     3\n",
            "2         21.01  3.50    Male     No   Sun  Dinner     3\n",
            "3         23.68  3.31    Male     No   Sun  Dinner     2\n",
            "4         24.59  3.61  Female     No   Sun  Dinner     4\n",
            "..          ...   ...     ...    ...   ...     ...   ...\n",
            "239       29.03  5.92    Male     No   Sat  Dinner     3\n",
            "240       27.18  2.00  Female    Yes   Sat  Dinner     2\n",
            "241       22.67  2.00    Male    Yes   Sat  Dinner     2\n",
            "242       17.82  1.75    Male     No   Sat  Dinner     2\n",
            "243       18.78  3.00  Female     No  Thur  Dinner     2\n",
            "\n",
            "[244 rows x 7 columns]\n"
          ]
        }
      ],
      "source": [
        "import pandas as pd\n",
        "import seaborn as sns\n",
        "import numpy as np\n",
        "import matplotlib.pyplot as plt\n",
        "\n",
        "# Veri setini yükleme\n",
        "df = sns.load_dataset('tips')\n",
        "df.head()\n",
        "# Aykırı değerleri görselleştirme\n",
        "sns.boxplot(x=df['total_bill'])\n",
        "plt.show()\n",
        "\n",
        "# Q1 (1. çeyrek) ve Q3 (3. çeyrek) hesaplama\n",
        "Q1 = df['total_bill'].quantile(0.25)\n",
        "Q3 = df['total_bill'].quantile(0.75)\n",
        "IQR = Q3 - Q1\n",
        "\n",
        "# Alt ve üst sınırları hesaplama\n",
        "alt_sinir = Q1 - 1.5 * IQR\n",
        "ust_sinir = Q3 + 1.5 * IQR\n",
        "\n",
        "print(\"Alt sınır:\", alt_sinir)\n",
        "print(\"Üst sınır:\", ust_sinir)\n",
        "\n",
        "# Aykırı değerleri tespit etme\n",
        "aykiri_degerler = (df['total_bill'] < alt_sinir) | (df['total_bill'] > ust_sinir)\n",
        "df[aykiri_degerler]\n",
        "# Aykırı değerleri silme\n",
        "temiz_veriler = df[~aykiri_degerler]\n",
        "print(temiz_veriler)\n",
        "\n",
        "# Alt sınırın altındaki değerleri alt sınıra eşitleme\n",
        "df.loc[df['total_bill'] < alt_sinir, 'total_bill'] = alt_sinir\n",
        "\n",
        "# Üst sınırın üstündeki değerleri üst sınıra eşitleme\n",
        "df.loc[df['total_bill'] > ust_sinir, 'total_bill'] = ust_sinir\n",
        "\n",
        "print(df)\n"
      ]
    },
    {
      "cell_type": "code",
      "source": [
        "# Gerekli kütüphaneleri yükleyelim\n",
        "import pandas as pd\n",
        "import seaborn as sns\n",
        "import numpy as np\n",
        "import matplotlib.pyplot as plt\n",
        "\n",
        "# Veri setini yükleyelim (diamonds veri seti)\n",
        "df = sns.load_dataset('diamonds')\n",
        "\n",
        "# Sadece sayısal sütunları seçelim\n",
        "df = df.select_dtypes(include=['float64', 'int64'])\n",
        "\n",
        "# Eksik değerleri çıkaralım (eğer varsa)\n",
        "df = df.dropna()\n",
        "\n",
        "# Veri setinin ilk 5 satırını görüntüleyelim\n",
        "print(\"Veri Seti İlk 5 Satır:\")\n",
        "print(df.head())\n",
        "\n",
        "# 'price' sütunu üzerinde aykırı değer analizi yapalım\n",
        "df_price = df['price']\n",
        "\n",
        "# Q1 (1. çeyrek) ve Q3 (3. çeyrek) hesaplama\n",
        "Q1 = df_price.quantile(0.25)\n",
        "Q3 = df_price.quantile(0.75)\n",
        "IQR = Q3 - Q1\n",
        "\n",
        "# Alt ve üst sınırları hesaplama\n",
        "alt_sinir = Q1 - 1.5 * IQR\n",
        "ust_sinir = Q3 + 1.5 * IQR\n",
        "\n",
        "print(f\"Alt Sınır: {alt_sinir}\")\n",
        "print(f\"Üst Sınır: {ust_sinir}\")\n",
        "\n",
        "# Aykırı değerleri tespit etme\n",
        "aykiri_degerler = (df_price < alt_sinir) | (df_price > ust_sinir)\n",
        "\n",
        "# Aykırı değerleri görüntüleyelim\n",
        "print(\"Aykırı Değerler:\")\n",
        "print(df_price[aykiri_degerler])\n",
        "\n",
        "# Aykırı değerleri silme\n",
        "temiz_veriler = df_price[~aykiri_degerler]\n",
        "print(\"Aykırı Değerler Silindikten Sonraki Veri:\")\n",
        "print(temiz_veriler)\n",
        "\n",
        "# Alt sınırın altındaki değerleri alt sınıra eşitleme\n",
        "df_price_baskilama = df_price.copy()\n",
        "df_price_baskilama[df_price_baskilama < alt_sinir] = alt_sinir\n",
        "\n",
        "# Üst sınırın üstündeki değerleri üst sınıra eşitleme\n",
        "df_price_baskilama[df_price_baskilama > ust_sinir] = ust_sinir\n",
        "\n",
        "print(\"Baskılama Yöntemi ile Düzeltilmiş Veri:\")\n",
        "print(df_price_baskilama)\n",
        "\n",
        "# Temizlenmiş veriyi görselleştirme\n",
        "plt.figure(figsize=(14, 6))\n",
        "\n",
        "# Orijinal veri boxplot\n",
        "plt.subplot(1, 2, 1)\n",
        "sns.boxplot(x=df_price, color='lightblue')\n",
        "plt.title(\"Orijinal Veri (Aykırı Değerler Dahil)\")\n",
        "\n",
        "# Temizlenmiş veri boxplot\n",
        "plt.subplot(1, 2, 2)\n",
        "sns.boxplot(x=temiz_veriler, color='lightgreen')\n",
        "plt.title(\"Temizlenmiş Veri (Aykırı Değerler Hariç)\")\n",
        "\n",
        "plt.tight_layout()\n",
        "plt.show()\n"
      ],
      "metadata": {
        "colab": {
          "base_uri": "https://localhost:8080/",
          "height": 1000
        },
        "id": "2JxXuH6pmCXZ",
        "outputId": "e5aa996a-4e1e-4c1f-c064-6b43d5664ad3"
      },
      "execution_count": 10,
      "outputs": [
        {
          "output_type": "stream",
          "name": "stdout",
          "text": [
            "Veri Seti İlk 5 Satır:\n",
            "   carat  depth  table  price     x     y     z\n",
            "0   0.23   61.5   55.0    326  3.95  3.98  2.43\n",
            "1   0.21   59.8   61.0    326  3.89  3.84  2.31\n",
            "2   0.23   56.9   65.0    327  4.05  4.07  2.31\n",
            "3   0.29   62.4   58.0    334  4.20  4.23  2.63\n",
            "4   0.31   63.3   58.0    335  4.34  4.35  2.75\n",
            "Alt Sınır: -5611.375\n",
            "Üst Sınır: 11885.625\n",
            "Aykırı Değerler:\n",
            "23820    11886\n",
            "23821    11886\n",
            "23822    11888\n",
            "23823    11888\n",
            "23824    11888\n",
            "         ...  \n",
            "27745    18803\n",
            "27746    18804\n",
            "27747    18806\n",
            "27748    18818\n",
            "27749    18823\n",
            "Name: price, Length: 3540, dtype: int64\n",
            "Aykırı Değerler Silindikten Sonraki Veri:\n",
            "0         326\n",
            "1         326\n",
            "2         327\n",
            "3         334\n",
            "4         335\n",
            "         ... \n",
            "53935    2757\n",
            "53936    2757\n",
            "53937    2757\n",
            "53938    2757\n",
            "53939    2757\n",
            "Name: price, Length: 50400, dtype: int64\n",
            "Baskılama Yöntemi ile Düzeltilmiş Veri:\n",
            "0         326.0\n",
            "1         326.0\n",
            "2         327.0\n",
            "3         334.0\n",
            "4         335.0\n",
            "          ...  \n",
            "53935    2757.0\n",
            "53936    2757.0\n",
            "53937    2757.0\n",
            "53938    2757.0\n",
            "53939    2757.0\n",
            "Name: price, Length: 53940, dtype: float64\n"
          ]
        },
        {
          "output_type": "stream",
          "name": "stderr",
          "text": [
            "<ipython-input-10-918b4ffc2439>:52: FutureWarning: Setting an item of incompatible dtype is deprecated and will raise an error in a future version of pandas. Value '11885.625' has dtype incompatible with int64, please explicitly cast to a compatible dtype first.\n",
            "  df_price_baskilama[df_price_baskilama > ust_sinir] = ust_sinir\n"
          ]
        },
        {
          "output_type": "display_data",
          "data": {
            "text/plain": [
              "<Figure size 1400x600 with 2 Axes>"
            ],
            "image/png": "[encoded data removed]"
          },
          "metadata": {}
        }
      ]
    },
    {
      "cell_type": "code",
      "source": [
        "# Gerekli kütüphaneleri yükleyelim\n",
        "import pandas as pd\n",
        "import seaborn as sns\n",
        "import numpy as np\n",
        "import matplotlib.pyplot as plt\n",
        "\n",
        "# Veri setini yükleyelim (diamonds veri setini kullanıyoruz)\n",
        "df = sns.load_dataset('diamonds')\n",
        "\n",
        "# Sadece sayısal değişkenleri seçelim\n",
        "df = df.select_dtypes(include=['float64', 'int64'])\n",
        "\n",
        "# Eksik değerleri çıkaralım (eğer varsa)\n",
        "df = df.dropna()\n",
        "\n",
        "# Veri setinin ilk 5 satırını görüntüleyelim\n",
        "print(\"Veri Seti İlk 5 Satır:\")\n",
        "print(df.head())\n",
        "\n",
        "# Aykırı değerleri analiz edeceğimiz bir sütun seçelim (örneğin 'price')\n",
        "df_table = df['price']\n",
        "\n",
        "# Aykırı değer analizine başlayalım\n",
        "sns.boxplot(x=df_table)\n",
        "plt.title(\"Aykırı Değerlerin Görselleştirilmesi (Boxplot)\")\n",
        "plt.show()\n",
        "\n",
        "# IQR (Interquartile Range) yöntemiyle aykırı değerleri tespit edelim\n",
        "Q1 = df_table.quantile(0.25)  # 1. Çeyrek\n",
        "Q3 = df_table.quantile(0.75)  # 3. Çeyrek\n",
        "IQR = Q3 - Q1                 # IQR Hesabı\n",
        "\n",
        "# Alt ve üst sınırları hesaplayalım\n",
        "alt_sinir = Q1 - 1.5 * IQR\n",
        "ust_sinir = Q3 + 1.5 * IQR\n",
        "\n",
        "print(f\"Alt Sınır: {alt_sinir}\")\n",
        "print(f\"Üst Sınır: {ust_sinir}\")\n",
        "\n",
        "# Aykırı değerleri tespit edelim\n",
        "aykiri_degerler = (df_table < alt_sinir) | (df_table > ust_sinir)\n",
        "\n",
        "# Aykırı değerleri görüntüleyelim\n",
        "print(\"Aykırı Değerler:\")\n",
        "print(df_table[aykiri_degerler])\n",
        "\n",
        "# Aykırı Değer Problemini Çözme Yöntemleri\n",
        "\n",
        "## 1. Aykırı Değerleri Silme\n",
        "temiz_veriler = df_table[~aykiri_degerler]\n",
        "print(\"Aykırı Değerler Silindikten Sonraki Veri:\")\n",
        "print(temiz_veriler)\n",
        "\n",
        "## 2. Ortalama ile Doldurma\n",
        "df_table_mean = df_table.copy()\n",
        "df_table_mean[aykiri_degerler] = df_table.mean()\n",
        "print(\"Aykırı Değerlerin Ortalama ile Doldurulmuş Hali:\")\n",
        "print(df_table_mean)\n",
        "\n",
        "## 3. Baskılama Yöntemi\n",
        "df_table_baskilama = df_table.copy()\n",
        "\n",
        "# Alt sınırın altındaki değerleri alt sınıra eşitleme\n",
        "df_table_baskilama[df_table_baskilama < alt_sinir] = alt_sinir\n",
        "\n",
        "# Üst sınırın üstündeki değerleri üst sınıra eşitleme\n",
        "df_table_baskilama[df_table_baskilama > ust_sinir] = ust_sinir\n",
        "\n",
        "print(\"Aykırı Değerlerin Baskılama Yöntemi ile Düzeltilmiş Hali:\")\n",
        "print(df_table_baskilama)\n",
        "\n",
        "# Aykırı değerlerin düzeltilmiş hallerini görselleştirelim\n",
        "sns.boxplot(x=df_table_baskilama)\n",
        "plt.title(\"Baskılama Sonrası Boxplot\")\n",
        "plt.show()\n"
      ],
      "metadata": {
        "colab": {
          "base_uri": "https://localhost:8080/",
          "height": 1000
        },
        "id": "HKLzSD9ljlTZ",
        "outputId": "e4e433f6-7f5d-4857-96b3-41fad9d4f57b"
      },
      "execution_count": 9,
      "outputs": [
        {
          "output_type": "stream",
          "name": "stdout",
          "text": [
            "Veri Seti İlk 5 Satır:\n",
            "   carat  depth  table  price     x     y     z\n",
            "0   0.23   61.5   55.0    326  3.95  3.98  2.43\n",
            "1   0.21   59.8   61.0    326  3.89  3.84  2.31\n",
            "2   0.23   56.9   65.0    327  4.05  4.07  2.31\n",
            "3   0.29   62.4   58.0    334  4.20  4.23  2.63\n",
            "4   0.31   63.3   58.0    335  4.34  4.35  2.75\n"
          ]
        },
        {
          "output_type": "display_data",
          "data": {
            "text/plain": [
              "<Figure size 640x480 with 1 Axes>"
            ],
            "image/png": "[encoded data removed]"
          },
          "metadata": {}
        },
        {
          "output_type": "stream",
          "name": "stdout",
          "text": [
            "Alt Sınır: -5611.375\n",
            "Üst Sınır: 11885.625\n",
            "Aykırı Değerler:\n",
            "23820    11886\n",
            "23821    11886\n",
            "23822    11888\n",
            "23823    11888\n",
            "23824    11888\n",
            "         ...  \n",
            "27745    18803\n",
            "27746    18804\n",
            "27747    18806\n",
            "27748    18818\n",
            "27749    18823\n",
            "Name: price, Length: 3540, dtype: int64\n",
            "Aykırı Değerler Silindikten Sonraki Veri:\n",
            "0         326\n",
            "1         326\n",
            "2         327\n",
            "3         334\n",
            "4         335\n",
            "         ... \n",
            "53935    2757\n",
            "53936    2757\n",
            "53937    2757\n",
            "53938    2757\n",
            "53939    2757\n",
            "Name: price, Length: 50400, dtype: int64\n",
            "Aykırı Değerlerin Ortalama ile Doldurulmuş Hali:\n",
            "0         326.0\n",
            "1         326.0\n",
            "2         327.0\n",
            "3         334.0\n",
            "4         335.0\n",
            "          ...  \n",
            "53935    2757.0\n",
            "53936    2757.0\n",
            "53937    2757.0\n",
            "53938    2757.0\n",
            "53939    2757.0\n",
            "Name: price, Length: 53940, dtype: float64\n",
            "Aykırı Değerlerin Baskılama Yöntemi ile Düzeltilmiş Hali:\n",
            "0         326.0\n",
            "1         326.0\n",
            "2         327.0\n",
            "3         334.0\n",
            "4         335.0\n",
            "          ...  \n",
            "53935    2757.0\n",
            "53936    2757.0\n",
            "53937    2757.0\n",
            "53938    2757.0\n",
            "53939    2757.0\n",
            "Name: price, Length: 53940, dtype: float64\n"
          ]
        },
        {
          "output_type": "stream",
          "name": "stderr",
          "text": [
            "<ipython-input-9-67d2ec4561fe>:56: FutureWarning: Setting an item of incompatible dtype is deprecated and will raise an error in a future version of pandas. Value '3932.799721913237' has dtype incompatible with int64, please explicitly cast to a compatible dtype first.\n",
            "  df_table_mean[aykiri_degerler] = df_table.mean()\n",
            "<ipython-input-9-67d2ec4561fe>:67: FutureWarning: Setting an item of incompatible dtype is deprecated and will raise an error in a future version of pandas. Value '11885.625' has dtype incompatible with int64, please explicitly cast to a compatible dtype first.\n",
            "  df_table_baskilama[df_table_baskilama > ust_sinir] = ust_sinir\n"
          ]
        },
        {
          "output_type": "display_data",
          "data": {
            "text/plain": [
              "<Figure size 640x480 with 1 Axes>"
            ],
            "image/png": "[encoded data removed]"
          },
          "metadata": {}
        }
      ]
    }
  ]
}